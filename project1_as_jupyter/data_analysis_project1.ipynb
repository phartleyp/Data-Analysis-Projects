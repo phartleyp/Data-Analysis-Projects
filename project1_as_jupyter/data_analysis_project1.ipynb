{
 "cells": [
  {
   "cell_type": "markdown",
   "metadata": {},
   "source": [
    "# Project 1 Data Analysis\n",
    "**TODO** Introduction\n",
    "\n",
    "**TODO** How to configure"
   ]
  },
  {
   "cell_type": "code",
   "execution_count": null,
   "metadata": {},
   "outputs": [],
   "source": [
    "from pathlib import Path\n",
    "\n",
    "import matplotlib.pyplot as mplt\n",
    "import pandas as pn\n",
    "import seaborn as sb"
   ]
  },
  {
   "cell_type": "code",
   "execution_count": null,
   "metadata": {},
   "outputs": [],
   "source": [
    "# project configuration\n",
    "DATA_PATH = Path(\"../project1/vgsales.csv\")"
   ]
  },
  {
   "cell_type": "code",
   "execution_count": null,
   "metadata": {},
   "outputs": [],
   "source": [
    "# Loading the dataset\n",
    "ds = pn.read_csv(DATA_PATH)\n",
    "\n",
    "# Displaying the first few rows of the dataset\n",
    "ds.head()"
   ]
  },
  {
   "cell_type": "code",
   "execution_count": null,
   "metadata": {},
   "outputs": [],
   "source": [
    "# Checking for missing values\n",
    "missing_values = ds.isnull().sum()\n",
    "\n",
    "# Displaying the count of missing values for each column\n",
    "print(\"Missing values in each column:\")\n",
    "missing_values"
   ]
  },
  {
   "cell_type": "code",
   "execution_count": null,
   "metadata": {},
   "outputs": [],
   "source": [
    "# Removing the rows with missing values\n",
    "ds = ds.dropna()\n",
    "\n",
    "# Checking for duplicates\n",
    "duplicates = ds.duplicated()\n",
    "\n",
    "# Displaying the number of duplicate rows\n",
    "print(\"Number of duplicate rows:\", duplicates.sum())\n",
    "\n",
    "# Removing duplicate rows\n",
    "ds = ds.drop_duplicates()"
   ]
  },
  {
   "cell_type": "code",
   "execution_count": null,
   "metadata": {},
   "outputs": [],
   "source": [
    "# Checking for outliers in the 'Global_Sales' column\n",
    "\n",
    "# Calculate the first quartile (Q1) and third quartile (Q3)\n",
    "Q1 = ds[\"Global_Sales\"].quantile(0.25)\n",
    "Q3 = ds[\"Global_Sales\"].quantile(0.75)\n",
    "IQR = Q3 - Q1\n",
    "lower_bound = Q1 - 1.5 * IQR\n",
    "upper_bound = Q3 + 1.5 * IQR\n",
    "\n",
    "# Identifying outliers\n",
    "outliers = ds[\n",
    "    (ds[\"Global_Sales\"] < lower_bound) | (ds[\"Global_Sales\"] > upper_bound)\n",
    "]\n",
    "\n",
    "# Displaying the outliers\n",
    "print(\"Outliers in the 'Global_Sales' column:\")\n",
    "outliers"
   ]
  },
  {
   "cell_type": "code",
   "execution_count": null,
   "metadata": {},
   "outputs": [],
   "source": [
    "# Get summary statistics for numerical columns\n",
    "summary_stats = ds.describe()\n",
    "\n",
    "# Export the cleaned and processed data to CSV for Tableau\n",
    "ds.to_csv(\"processed_vgsales.csv\", index=False)\n",
    "\n",
    "# Display summary statistics to understand the distribution of the data\n",
    "print(\"Summary Statistics:\")\n",
    "summary_stats"
   ]
  },
  {
   "cell_type": "code",
   "execution_count": null,
   "metadata": {},
   "outputs": [],
   "source": [
    "# Visualuzing a pie chart to find out games in which genre were sold the most\n",
    "sales_by_genre = ds.groupby(\"Genre\")[\"Global_Sales\"].sum().reset_index()\n",
    "sales_by_genre = sales_by_genre.sort_values(by=\"Global_Sales\", ascending=False)\n",
    "mplt.figure(figsize=(10, 8))\n",
    "mplt.pie(sales_by_genre[\"Global_Sales\"], autopct=\"%1.1f%%\", startangle=140)\n",
    "mplt.title(\"Total Global Sales by Genre\")\n",
    "mplt.axis(\"equal\")  # Equal aspect ratio ensures that pie is drawn as a circle.\n",
    "mplt.show()"
   ]
  },
  {
   "cell_type": "code",
   "execution_count": null,
   "metadata": {},
   "outputs": [],
   "source": [
    "# Visualizing sales in North America by date\n",
    "# Converting the 'Date' column to datetime format\n",
    "ds[\"Date\"] = pn.to_datetime(ds[\"Date\"])\n",
    "\n",
    "# Setting the 'Date' column as the index\n",
    "ds.set_index(\"Date\", inplace=True)\n",
    "\n",
    "# Resampling by month and calculate the total sales for each month\n",
    "monthly_sales = ds[\"NA_Sales\"].resample(\"ME\").sum()\n",
    "\n",
    "# Plotting the monthly sales trend to visualize how sales change over time\n",
    "mplt.figure(figsize=(12, 6))\n",
    "monthly_sales.plot()\n",
    "mplt.title(\"NA sales by date\")\n",
    "mplt.xlabel(\"Date\")\n",
    "mplt.ylabel(\"NA sales (millions)\")\n",
    "mplt.show()"
   ]
  },
  {
   "cell_type": "code",
   "execution_count": null,
   "metadata": {},
   "outputs": [],
   "source": [
    "# Grouping the games sold by platform in Japan\n",
    "category_sales = ds.groupby(\"Platform\")[\"JP_Sales\"].sum().reset_index()\n",
    "\n",
    "# Sorting the sales\n",
    "category_sales = category_sales.sort_values(by=\"JP_Sales\", ascending=False)\n",
    "\n",
    "# Ploting sales by product category to see which platfrom generate the most sales\n",
    "\n",
    "mplt.figure(figsize=(10, 6))\n",
    "mplt.bar(category_sales[\"Platform\"], category_sales[\"JP_Sales\"], color=\"skyblue\")\n",
    "mplt.xlabel(\"Platform\")\n",
    "mplt.ylabel(\"Sales in Japan (millions)\")\n",
    "mplt.title(\"Total Sales by Platform in Japan\")\n",
    "mplt.xticks(rotation=45)\n",
    "mplt.show()"
   ]
  },
  {
   "cell_type": "code",
   "execution_count": null,
   "metadata": {},
   "outputs": [],
   "source": [
    "# Correlation matrix between Global, Japan and North America sales\n",
    "sales = ds[[\"JP_Sales\", \"NA_Sales\", \"Global_Sales\"]]\n",
    "\n",
    "# Calculating the correlation matrix\n",
    "correlation_matrix = sales.corr()\n",
    "correlation_matrix"
   ]
  },
  {
   "cell_type": "code",
   "execution_count": null,
   "metadata": {},
   "outputs": [],
   "source": [
    "\n",
    "# Ploting the correlation matrix\n",
    "mplt.figure(figsize=(8, 6))\n",
    "sb.heatmap(correlation_matrix, annot=True, cmap=\"coolwarm\", center=0)\n",
    "mplt.title(\"Correlation Matrix\")\n",
    "mplt.show()"
   ]
  }
 ],
 "metadata": {
  "kernelspec": {
   "display_name": "siavash",
   "language": "python",
   "name": "python3"
  },
  "language_info": {
   "codemirror_mode": {
    "name": "ipython",
    "version": 3
   },
   "file_extension": ".py",
   "mimetype": "text/x-python",
   "name": "python",
   "nbconvert_exporter": "python",
   "pygments_lexer": "ipython3",
   "version": "3.12.4"
  }
 },
 "nbformat": 4,
 "nbformat_minor": 2
}
